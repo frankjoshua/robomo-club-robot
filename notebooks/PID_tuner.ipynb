{
 "cells": [
  {
   "cell_type": "code",
   "execution_count": 1,
   "metadata": {},
   "outputs": [],
   "source": [
    "import rospy\n",
    "import jupyros as jr\n",
    "from jupyros import ros3d\n",
    "from geometry_msgs.msg import Twist, Vector3"
   ]
  },
  {
   "cell_type": "code",
   "execution_count": 2,
   "metadata": {},
   "outputs": [],
   "source": [
    "rospy.init_node(\"pid_tuner\")"
   ]
  },
  {
   "cell_type": "code",
   "execution_count": 3,
   "metadata": {},
   "outputs": [],
   "source": [
    "publisher = rospy.Publisher('cmd_vel', Twist, queue_size=0)\n",
    "twistMessage = Twist()"
   ]
  },
  {
   "cell_type": "code",
   "execution_count": 6,
   "metadata": {
    "scrolled": false
   },
   "outputs": [],
   "source": [
    "import bqplot as bq\n",
    "import ipywidgets as widgets\n",
    "import numpy as np\n",
    "\n",
    "def live_plot(topic_type, history=200, title=None):\n",
    "    topic = \"/raw_vel\"\n",
    "    title = title if title else topic\n",
    "    \n",
    "    x_sc = bq.LinearScale()\n",
    "    y_sc = bq.LinearScale()\n",
    "\n",
    "    ax_x = bq.Axis(label='X', scale=x_sc, grid_lines='solid')\n",
    "    ax_y = bq.Axis(label='Y', scale=y_sc, orientation='vertical', grid_lines='solid')\n",
    "\n",
    "    lines = bq.Lines(x=np.array([]), y=np.array([]), scales={'x': x_sc, 'y': y_sc})\n",
    "    fig = bq.Figure(axes=[ax_x, ax_y], marks=[lines], labels=\"\", display_legend=True, title=title)\n",
    "    data = []\n",
    "\n",
    "    def cb(msg, data=data):\n",
    "        data_el = []\n",
    "        data_el.append([0, 0.2, msg.linear.x])\n",
    "        data.append(data_el)\n",
    "        data = data[-history:]\n",
    "        ndat = np.asarray(data).T\n",
    "        if lines:\n",
    "            lines.y = ndat\n",
    "            lines.x = np.arange(len(data))\n",
    "\n",
    "    rospy.Subscriber(topic, topic_type, cb)\n",
    "    return fig"
   ]
  },
  {
   "cell_type": "code",
   "execution_count": 7,
   "metadata": {},
   "outputs": [
    {
     "data": {
      "application/vnd.jupyter.widget-view+json": {
       "model_id": "a8d57553960d43959ef07dbedc405523",
       "version_major": 2,
       "version_minor": 0
      },
      "text/plain": [
       "Figure(axes=[Axis(label='X', scale=LinearScale()), Axis(label='Y', orientation='vertical', scale=LinearScale()…"
      ]
     },
     "metadata": {},
     "output_type": "display_data"
    }
   ],
   "source": [
    "live_plot(Twist)"
   ]
  },
  {
   "cell_type": "code",
   "execution_count": 8,
   "metadata": {
    "scrolled": true
   },
   "outputs": [
    {
     "data": {
      "application/vnd.jupyter.widget-view+json": {
       "model_id": "a6106704a0cb44a88ce8e79cc1bba8aa",
       "version_major": 2,
       "version_minor": 0
      },
      "text/plain": [
       "VBox(children=(HBox(children=(Label(value='x', layout=Layout(width='100px')), FloatText(value=0.0))), HBox(chi…"
      ]
     },
     "metadata": {},
     "output_type": "display_data"
    }
   ],
   "source": [
    "jr.publish('/pid_update', Vector3)"
   ]
  },
  {
   "cell_type": "code",
   "execution_count": 9,
   "metadata": {},
   "outputs": [
    {
     "data": {
      "application/vnd.jupyter.widget-view+json": {
       "model_id": "d14f7461bd8f4d0f9356379d6b42cbab",
       "version_major": 2,
       "version_minor": 0
      },
      "text/plain": [
       "VBox(children=(Label(value='linear'), HBox(children=(Label(value='x', layout=Layout(width='100px')), FloatText…"
      ]
     },
     "metadata": {},
     "output_type": "display_data"
    }
   ],
   "source": [
    "jr.publish('/cmd_vel', Twist)"
   ]
  },
  {
   "cell_type": "code",
   "execution_count": null,
   "metadata": {},
   "outputs": [],
   "source": []
  }
 ],
 "metadata": {
  "kernelspec": {
   "display_name": "Python 3",
   "language": "python",
   "name": "python3"
  },
  "language_info": {
   "codemirror_mode": {
    "name": "ipython",
    "version": 3
   },
   "file_extension": ".py",
   "mimetype": "text/x-python",
   "name": "python",
   "nbconvert_exporter": "python",
   "pygments_lexer": "ipython3",
   "version": "3.8.6"
  }
 },
 "nbformat": 4,
 "nbformat_minor": 4
}
