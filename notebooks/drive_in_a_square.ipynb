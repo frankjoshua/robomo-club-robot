{
 "cells": [
  {
   "cell_type": "code",
   "execution_count": 1,
   "metadata": {},
   "outputs": [],
   "source": [
    "import rospy\n",
    "import actionlib\n",
    "from move_base_msgs.msg import MoveBaseAction, MoveBaseGoal\n",
    "\n",
    "def movebase_client(x, y, z, w):\n",
    "\n",
    "    client = actionlib.SimpleActionClient('move_base',MoveBaseAction)\n",
    "    client.wait_for_server()\n",
    "\n",
    "    goal = MoveBaseGoal()\n",
    "    goal.target_pose.header.frame_id = \"map\"\n",
    "    goal.target_pose.header.stamp = rospy.Time.now()\n",
    "    goal.target_pose.pose.position.x = x\n",
    "    goal.target_pose.pose.position.y = y\n",
    "    goal.target_pose.pose.orientation.z = z\n",
    "    goal.target_pose.pose.orientation.w = w\n",
    "\n",
    "    client.send_goal(goal)\n",
    "    wait = client.wait_for_result()\n",
    "    if not wait:\n",
    "        rospy.logerr(\"Action server not available!\")\n",
    "        rospy.signal_shutdown(\"Action server not available!\")\n",
    "    else:\n",
    "        return client.get_result()"
   ]
  },
  {
   "cell_type": "code",
   "execution_count": 2,
   "metadata": {},
   "outputs": [],
   "source": [
    "rospy.init_node(\"square_drive_test\")"
   ]
  },
  {
   "cell_type": "code",
   "execution_count": 3,
   "metadata": {},
   "outputs": [],
   "source": [
    "from jupyros import ros3d\n",
    "import jupyros as jr\n",
    "from sidecar import Sidecar\n",
    "\n",
    "sc = Sidecar(title='Sidecar Output')\n"
   ]
  },
  {
   "cell_type": "code",
   "execution_count": 4,
   "metadata": {},
   "outputs": [],
   "source": [
    "v = ros3d.Viewer()\n",
    "rc = ros3d.ROSConnection()\n",
    "tf_client = ros3d.TFClient(ros=rc, fixed_frame='map')"
   ]
  },
  {
   "cell_type": "code",
   "execution_count": 5,
   "metadata": {
    "scrolled": true
   },
   "outputs": [
    {
     "data": {
      "application/vnd.jupyter.widget-view+json": {
       "model_id": "78f624ca974d4ee2a85936afeabd172e",
       "version_major": 2,
       "version_minor": 0
      },
      "text/plain": [
       "Viewer()"
      ]
     },
     "metadata": {},
     "output_type": "display_data"
    }
   ],
   "source": [
    "with sc:\n",
    "    display(v)"
   ]
  },
  {
   "cell_type": "code",
   "execution_count": 6,
   "metadata": {},
   "outputs": [],
   "source": [
    "path_view_global = ros3d.Path(ros=rc, tf_client=tf_client, topic=\"/move_base/TrajectoryPlannerROS/global_plan\")\n",
    "path_view_local = ros3d.Path(ros=rc, tf_client=tf_client, topic=\"/move_base/TrajectoryPlannerROS/local_plan\")\n",
    "g1 = ros3d.GridModel()\n",
    "laser_view = ros3d.LaserScan(topic=\"/scan\", ros=rc, tf_client=tf_client)\n",
    "occupancyGrid = ros3d.OccupancyGrid(topic=\"/map\", ros=rc, tf_client=tf_client, continuous=True)\n",
    "urdf = ros3d.URDFModel(ros=rc, tf_client=tf_client)\n",
    "v.objects = [path_view_global, path_view_local, g1, laser_view, occupancyGrid, urdf]\n",
    "v.layout.height = '100%'"
   ]
  },
  {
   "cell_type": "code",
   "execution_count": null,
   "metadata": {},
   "outputs": [],
   "source": [
    "movebase_client(0.0, 0.0, 0.0, 1.0)\n"
   ]
  },
  {
   "cell_type": "code",
   "execution_count": 7,
   "metadata": {},
   "outputs": [
    {
     "data": {
      "text/plain": []
     },
     "execution_count": 7,
     "metadata": {},
     "output_type": "execute_result"
    }
   ],
   "source": [
    "movebase_client(1.0, 0.0, 0.7, 0.7)"
   ]
  },
  {
   "cell_type": "code",
   "execution_count": null,
   "metadata": {},
   "outputs": [],
   "source": [
    "movebase_client(1.0, 1.0, 1.0, 0.0)"
   ]
  },
  {
   "cell_type": "code",
   "execution_count": null,
   "metadata": {},
   "outputs": [],
   "source": [
    "movebase_client(0.0, 1.0, 0.7, -0.7)"
   ]
  },
  {
   "cell_type": "code",
   "execution_count": null,
   "metadata": {},
   "outputs": [],
   "source": [
    "movebase_client(0.0, 0.0, 0.0, 1.0)\n",
    "movebase_client(1.0, 0.0, 0.7, 0.7)\n",
    "movebase_client(1.0, 1.0, 1.0, 0.0)\n",
    "movebase_client(0.0, 1.0, 0.7, -0.7)\n",
    "movebase_client(0.0, 0.0, 0.0, 1.0)"
   ]
  },
  {
   "cell_type": "code",
   "execution_count": null,
   "metadata": {},
   "outputs": [],
   "source": [
    "movebase_client(0.0, 0.0, 0.0, 1.0)"
   ]
  },
  {
   "cell_type": "code",
   "execution_count": null,
   "metadata": {},
   "outputs": [],
   "source": [
    "movebase_client(0.0, 0.0, 0.0, 1.0)\n",
    "movebase_client(0.0, 0.0, 0.7, 0.7)\n",
    "movebase_client(0.0, 0.0, 1.0, 0.0)\n",
    "movebase_client(0.0, 0.0, 0.7, -0.7)\n",
    "movebase_client(0.0, 0.0, 0.0, 1.0)"
   ]
  },
  {
   "cell_type": "code",
   "execution_count": null,
   "metadata": {},
   "outputs": [],
   "source": [
    "movebase_client(0.0, 0.0, 0.0, 1.0)\n",
    "movebase_client(0.0, 0.0, 0.7, 0.7)\n",
    "movebase_client(0.0, 0.0, 0.7, -0.7)\n",
    "movebase_client(0.0, 0.0, 1.0, 0.0)\n",
    "movebase_client(0.0, 0.0, 0.0, 1.0)"
   ]
  },
  {
   "cell_type": "code",
   "execution_count": null,
   "metadata": {},
   "outputs": [],
   "source": []
  }
 ],
 "metadata": {
  "kernelspec": {
   "display_name": "Python 3",
   "language": "python",
   "name": "python3"
  },
  "language_info": {
   "codemirror_mode": {
    "name": "ipython",
    "version": 3
   },
   "file_extension": ".py",
   "mimetype": "text/x-python",
   "name": "python",
   "nbconvert_exporter": "python",
   "pygments_lexer": "ipython3",
   "version": "3.8.6"
  }
 },
 "nbformat": 4,
 "nbformat_minor": 4
}
