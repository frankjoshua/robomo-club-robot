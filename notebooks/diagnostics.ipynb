{
 "cells": [
  {
   "cell_type": "code",
   "execution_count": 1,
   "metadata": {},
   "outputs": [],
   "source": [
    "import rospy as rp\n",
    "from jupyros import ros3d\n",
    "import jupyros as jr\n",
    "from std_msgs.msg import String\n",
    "from nav_msgs.msg import OccupancyGrid"
   ]
  },
  {
   "cell_type": "code",
   "execution_count": 2,
   "metadata": {},
   "outputs": [],
   "source": [
    "rp.init_node('diagnotics_node')"
   ]
  },
  {
   "cell_type": "markdown",
   "metadata": {},
   "source": [
    "### Check connection to ROS"
   ]
  },
  {
   "cell_type": "code",
   "execution_count": 3,
   "metadata": {},
   "outputs": [
    {
     "data": {
      "text/plain": [
       "[['/map_metadata', 'nav_msgs/MapMetaData'],\n",
       " ['/move_base/global_costmap/costmap_updates', 'map_msgs/OccupancyGridUpdate'],\n",
       " ['/move_base/current_goal', 'geometry_msgs/PoseStamped'],\n",
       " ['/camera/rgb/image_rect_color/theora/parameter_descriptions',\n",
       "  'dynamic_reconfigure/ConfigDescription'],\n",
       " ['/move_base/parameter_descriptions',\n",
       "  'dynamic_reconfigure/ConfigDescription'],\n",
       " ['/move_base/local_costmap/inflation_layer/parameter_descriptions',\n",
       "  'dynamic_reconfigure/ConfigDescription'],\n",
       " ['/move_base/feedback', 'move_base_msgs/MoveBaseActionFeedback'],\n",
       " ['/move_base/result', 'move_base_msgs/MoveBaseActionResult'],\n",
       " ['/odom_gazebo', 'nav_msgs/Odometry'],\n",
       " ['/camera/rgb/image_rect_color/theora', 'theora_image_transport/Packet'],\n",
       " ['/rosout_agg', 'rosgraph_msgs/Log'],\n",
       " ['/connected_clients', 'rosbridge_msgs/ConnectedClients'],\n",
       " ['/move_base/local_costmap/costmap', 'nav_msgs/OccupancyGrid'],\n",
       " ['/move_base/global_costmap/static_layer/parameter_updates',\n",
       "  'dynamic_reconfigure/Config'],\n",
       " ['/scan', 'sensor_msgs/LaserScan'],\n",
       " ['/camera/rgb/image_rect_color/compressedDepth/parameter_descriptions',\n",
       "  'dynamic_reconfigure/ConfigDescription'],\n",
       " ['/camera/rgb/image_rect_color/compressed/parameter_descriptions',\n",
       "  'dynamic_reconfigure/ConfigDescription'],\n",
       " ['/camera/depth/camera_info', 'sensor_msgs/CameraInfo'],\n",
       " ['/camera/rgb/camera_info', 'sensor_msgs/CameraInfo'],\n",
       " ['/move_base/local_costmap/inflation_layer/parameter_updates',\n",
       "  'dynamic_reconfigure/Config'],\n",
       " ['/client_count', 'std_msgs/Int32'],\n",
       " ['/move_base/status', 'actionlib_msgs/GoalStatusArray'],\n",
       " ['/camera/rgb/image_rect_color/theora/parameter_updates',\n",
       "  'dynamic_reconfigure/Config'],\n",
       " ['/move_base/global_costmap/static_layer/parameter_descriptions',\n",
       "  'dynamic_reconfigure/ConfigDescription'],\n",
       " ['/tf2_web_republisher/feedback',\n",
       "  'tf2_web_republisher/TFSubscriptionActionFeedback'],\n",
       " ['/move_base/NavfnROS/plan', 'nav_msgs/Path'],\n",
       " ['/move_base/local_costmap/parameter_descriptions',\n",
       "  'dynamic_reconfigure/ConfigDescription'],\n",
       " ['/move_base/parameter_updates', 'dynamic_reconfigure/Config'],\n",
       " ['/tf_static', 'tf2_msgs/TFMessage'],\n",
       " ['/move_base/global_costmap/inflation_layer/parameter_updates',\n",
       "  'dynamic_reconfigure/Config'],\n",
       " ['/gazebo/parameter_descriptions', 'dynamic_reconfigure/ConfigDescription'],\n",
       " ['/move_base/TrajectoryPlannerROS/parameter_descriptions',\n",
       "  'dynamic_reconfigure/ConfigDescription'],\n",
       " ['/camera/parameter_descriptions', 'dynamic_reconfigure/ConfigDescription'],\n",
       " ['/map', 'nav_msgs/OccupancyGrid'],\n",
       " ['/cmd_vel', 'geometry_msgs/Twist'],\n",
       " ['/move_base/local_costmap/parameter_updates', 'dynamic_reconfigure/Config'],\n",
       " ['/camera/depth_registered/image_raw', 'sensor_msgs/Image'],\n",
       " ['/move_base/global_costmap/footprint', 'geometry_msgs/PolygonStamped'],\n",
       " ['/move_base/global_costmap/parameter_updates', 'dynamic_reconfigure/Config'],\n",
       " ['/joint_states', 'sensor_msgs/JointState'],\n",
       " ['/rosout', 'rosgraph_msgs/Log'],\n",
       " ['/move_base/TrajectoryPlannerROS/global_plan', 'nav_msgs/Path'],\n",
       " ['/move_base/local_costmap/obstacle_layer/parameter_descriptions',\n",
       "  'dynamic_reconfigure/ConfigDescription'],\n",
       " ['/move_base/goal', 'move_base_msgs/MoveBaseActionGoal'],\n",
       " ['/move_base/local_costmap/obstacle_layer/parameter_updates',\n",
       "  'dynamic_reconfigure/Config'],\n",
       " ['/move_base/global_costmap/obstacle_layer/parameter_descriptions',\n",
       "  'dynamic_reconfigure/ConfigDescription'],\n",
       " ['/move_base/TrajectoryPlannerROS/local_plan', 'nav_msgs/Path'],\n",
       " ['/tf', 'tf2_msgs/TFMessage'],\n",
       " ['/move_base/local_costmap/footprint', 'geometry_msgs/PolygonStamped'],\n",
       " ['/move_base/TrajectoryPlannerROS/cost_cloud', 'sensor_msgs/PointCloud2'],\n",
       " ['/camera/parameter_updates', 'dynamic_reconfigure/Config'],\n",
       " ['/move_base/global_costmap/parameter_descriptions',\n",
       "  'dynamic_reconfigure/ConfigDescription'],\n",
       " ['/move_base/global_costmap/inflation_layer/parameter_descriptions',\n",
       "  'dynamic_reconfigure/ConfigDescription'],\n",
       " ['/camera/rgb/image_rect_color/compressedDepth/parameter_updates',\n",
       "  'dynamic_reconfigure/Config'],\n",
       " ['/move_base/TrajectoryPlannerROS/parameter_updates',\n",
       "  'dynamic_reconfigure/Config'],\n",
       " ['/tf2_web_republisher/result',\n",
       "  'tf2_web_republisher/TFSubscriptionActionResult'],\n",
       " ['/gazebo/link_states', 'gazebo_msgs/LinkStates'],\n",
       " ['/move_base/local_costmap/costmap_updates', 'map_msgs/OccupancyGridUpdate'],\n",
       " ['/camera/rgb/image_rect_color', 'sensor_msgs/Image'],\n",
       " ['/gmapping/entropy', 'std_msgs/Float64'],\n",
       " ['/gazebo/model_states', 'gazebo_msgs/ModelStates'],\n",
       " ['/clock', 'rosgraph_msgs/Clock'],\n",
       " ['/move_base/global_costmap/obstacle_layer/parameter_updates',\n",
       "  'dynamic_reconfigure/Config'],\n",
       " ['/camera/rgb/image_rect_color/compressed', 'sensor_msgs/CompressedImage'],\n",
       " ['/camera/rgb/image_rect_color/compressedDepth',\n",
       "  'sensor_msgs/CompressedImage'],\n",
       " ['/tf2_web_republisher/status', 'actionlib_msgs/GoalStatusArray'],\n",
       " ['/camera/depth/points', 'sensor_msgs/PointCloud2'],\n",
       " ['/camera/rgb/image_rect_color/compressed/parameter_updates',\n",
       "  'dynamic_reconfigure/Config'],\n",
       " ['/move_base/global_costmap/costmap', 'nav_msgs/OccupancyGrid'],\n",
       " ['/gazebo/parameter_updates', 'dynamic_reconfigure/Config']]"
      ]
     },
     "execution_count": 3,
     "metadata": {},
     "output_type": "execute_result"
    }
   ],
   "source": [
    "rp.get_published_topics()"
   ]
  },
  {
   "cell_type": "markdown",
   "metadata": {},
   "source": [
    "### Checki if using simulation time"
   ]
  },
  {
   "cell_type": "code",
   "execution_count": 4,
   "metadata": {},
   "outputs": [
    {
     "data": {
      "text/plain": [
       "True"
      ]
     },
     "execution_count": 4,
     "metadata": {},
     "output_type": "execute_result"
    }
   ],
   "source": [
    "rp.get_param('/use_sim_time')\n",
    "# rp.get_param_names()"
   ]
  },
  {
   "cell_type": "code",
   "execution_count": 5,
   "metadata": {},
   "outputs": [],
   "source": [
    "# from rosgraph_msgs.msg import Clock\n",
    "# jr.subscribe(\"/clock\", Clock, lambda msg: print(msg))"
   ]
  },
  {
   "cell_type": "markdown",
   "metadata": {},
   "source": [
    "### Check Transform from odom to base_footprint"
   ]
  },
  {
   "cell_type": "code",
   "execution_count": 6,
   "metadata": {},
   "outputs": [],
   "source": [
    "import tf\n",
    "listener = tf.TransformListener()"
   ]
  },
  {
   "cell_type": "code",
   "execution_count": 7,
   "metadata": {},
   "outputs": [
    {
     "name": "stderr",
     "output_type": "stream",
     "text": [
      "/opt/ros/noetic/lib/python3/dist-packages/tf/listener.py:97: YAMLLoadWarning: calling yaml.load() without Loader=... is deprecated, as the default Loader is unsafe. Please read https://msg.pyyaml.org/load for full details.\n",
      "  data = yaml.load(self._buffer.all_frames_as_yaml()) or {}\n"
     ]
    },
    {
     "data": {
      "text/plain": [
       "['base_footprint',\n",
       " 'odom',\n",
       " 'base_link',\n",
       " 'camera_depth_frame',\n",
       " 'camera_link',\n",
       " 'camera_depth_optical_frame',\n",
       " 'body_link',\n",
       " 'hitch_front_link',\n",
       " 'laser',\n",
       " 'wheel_front_left',\n",
       " 'wheel_front_right',\n",
       " 'wheel_rear_left',\n",
       " 'wheel_rear_right',\n",
       " 'pocketbot']"
      ]
     },
     "execution_count": 7,
     "metadata": {},
     "output_type": "execute_result"
    }
   ],
   "source": [
    "listener.getFrameStrings()"
   ]
  },
  {
   "cell_type": "code",
   "execution_count": 8,
   "metadata": {},
   "outputs": [
    {
     "data": {
      "text/plain": [
       "rospy.Time[5741621000000]"
      ]
     },
     "execution_count": 8,
     "metadata": {},
     "output_type": "execute_result"
    }
   ],
   "source": [
    "listener.getLatestCommonTime(\"/base_footprint\", \"/base_footprint\")"
   ]
  },
  {
   "cell_type": "code",
   "execution_count": 9,
   "metadata": {},
   "outputs": [
    {
     "data": {
      "text/plain": [
       "rospy.Time[5742301000000]"
      ]
     },
     "execution_count": 9,
     "metadata": {},
     "output_type": "execute_result"
    }
   ],
   "source": [
    "listener.getLatestCommonTime(\"/odom\", \"/odom\")"
   ]
  },
  {
   "cell_type": "code",
   "execution_count": 10,
   "metadata": {},
   "outputs": [
    {
     "data": {
      "text/plain": [
       "rospy.Time[5743742000000]"
      ]
     },
     "execution_count": 10,
     "metadata": {},
     "output_type": "execute_result"
    }
   ],
   "source": [
    "listener.getLatestCommonTime(\"/map\", \"/odom\")"
   ]
  },
  {
   "cell_type": "code",
   "execution_count": 11,
   "metadata": {},
   "outputs": [
    {
     "data": {
      "text/plain": [
       "([0.0, 0.0, 0.0], [0.0, 0.0, 0.0, 1.0])"
      ]
     },
     "execution_count": 11,
     "metadata": {},
     "output_type": "execute_result"
    }
   ],
   "source": [
    "listener.lookupTransform('/base_footprint', '/base_link', rp.Time.now())"
   ]
  },
  {
   "cell_type": "code",
   "execution_count": 12,
   "metadata": {},
   "outputs": [
    {
     "data": {
      "text/plain": [
       "([0.019233287244667583, 0.2384169207157703, 0.0761801590267704],\n",
       " [-1.3496453732539614e-05,\n",
       "  3.2728530550928967e-06,\n",
       "  -0.10042720167251609,\n",
       "  0.9949444089854278])"
      ]
     },
     "execution_count": 12,
     "metadata": {},
     "output_type": "execute_result"
    }
   ],
   "source": [
    "listener.lookupTransform('/odom', '/base_footprint', rp.Time.now() - rp.Time(0.3))"
   ]
  },
  {
   "cell_type": "code",
   "execution_count": 13,
   "metadata": {},
   "outputs": [
    {
     "data": {
      "text/plain": [
       "([-3.469446951953614e-18, 2.7755575615628914e-17, 0.0], [0.0, 0.0, 0.0, 1.0])"
      ]
     },
     "execution_count": 13,
     "metadata": {},
     "output_type": "execute_result"
    }
   ],
   "source": [
    "listener.lookupTransform('/map', '/odom', rp.Time.now() - rp.Time(0.3))"
   ]
  },
  {
   "cell_type": "code",
   "execution_count": null,
   "metadata": {},
   "outputs": [],
   "source": []
  },
  {
   "cell_type": "code",
   "execution_count": 14,
   "metadata": {},
   "outputs": [
    {
     "data": {
      "text/plain": [
       "([0.019263227598154582, 0.23847791909827123, 0.07618015902637977],\n",
       " [-1.3496409763916631e-05,\n",
       "  3.27302596709548e-06,\n",
       "  -0.1004399845994831,\n",
       "  0.9949431186257786])"
      ]
     },
     "execution_count": 14,
     "metadata": {},
     "output_type": "execute_result"
    }
   ],
   "source": [
    "listener.lookupTransform('/map', '/base_footprint', rp.Time.now() - rp.Time(0.3))"
   ]
  },
  {
   "cell_type": "code",
   "execution_count": 15,
   "metadata": {
    "scrolled": true
   },
   "outputs": [],
   "source": [
    "# from nav_msgs.msg import Odometry\n",
    "# jr.subscribe(\"/odom\", Odometry, lambda msg: print(msg))"
   ]
  },
  {
   "cell_type": "markdown",
   "metadata": {},
   "source": [
    "### Show map"
   ]
  },
  {
   "cell_type": "code",
   "execution_count": 16,
   "metadata": {},
   "outputs": [],
   "source": [
    "# jr.subscribe(\"/map\", OccupancyGrid, lambda msg: print(msg))"
   ]
  },
  {
   "cell_type": "code",
   "execution_count": 17,
   "metadata": {},
   "outputs": [
    {
     "data": {
      "application/vnd.jupyter.widget-view+json": {
       "model_id": "63e619b5d10c4065aed70d60f11bab75",
       "version_major": 2,
       "version_minor": 0
      },
      "text/plain": [
       "Viewer(objects=[GridModel()])"
      ]
     },
     "metadata": {},
     "output_type": "display_data"
    }
   ],
   "source": [
    "from jupyros import ros3d\n",
    "\n",
    "v = ros3d.Viewer()\n",
    "v.objects = [ros3d.GridModel()]\n",
    "v"
   ]
  },
  {
   "cell_type": "code",
   "execution_count": 18,
   "metadata": {},
   "outputs": [],
   "source": [
    "rc = ros3d.ROSConnection()\n",
    "tf_client = ros3d.TFClient(ros=rc, fixed_frame='/map')\n",
    "occupancyMap = ros3d.OccupancyGrid(ros=rc, tf_client=tf_client, topic='/map', continuous=True)\n",
    "urdf = ros3d.URDFModel(ros=rc, tf_client=tf_client)\n",
    "v.objects = [ros3d.GridModel(), occupancyMap, urdf]"
   ]
  },
  {
   "cell_type": "code",
   "execution_count": null,
   "metadata": {},
   "outputs": [],
   "source": []
  },
  {
   "cell_type": "code",
   "execution_count": null,
   "metadata": {},
   "outputs": [],
   "source": []
  }
 ],
 "metadata": {
  "kernelspec": {
   "display_name": "Python 3",
   "language": "python",
   "name": "python3"
  },
  "language_info": {
   "codemirror_mode": {
    "name": "ipython",
    "version": 3
   },
   "file_extension": ".py",
   "mimetype": "text/x-python",
   "name": "python",
   "nbconvert_exporter": "python",
   "pygments_lexer": "ipython3",
   "version": "3.8.6"
  }
 },
 "nbformat": 4,
 "nbformat_minor": 4
}
